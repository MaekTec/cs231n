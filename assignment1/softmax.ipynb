{
 "cells": [
  {
   "cell_type": "markdown",
   "metadata": {
    "tags": [
     "pdf-title"
    ]
   },
   "source": [
    "# Softmax exercise\n",
    "\n",
    "*Complete and hand in this completed worksheet (including its outputs and any supporting code outside of the worksheet) with your assignment submission. For more details see the [assignments page](http://vision.stanford.edu/teaching/cs231n/assignments.html) on the course website.*\n",
    "\n",
    "This exercise is analogous to the SVM exercise. You will:\n",
    "\n",
    "- implement a fully-vectorized **loss function** for the Softmax classifier\n",
    "- implement the fully-vectorized expression for its **analytic gradient**\n",
    "- **check your implementation** with numerical gradient\n",
    "- use a validation set to **tune the learning rate and regularization** strength\n",
    "- **optimize** the loss function with **SGD**\n",
    "- **visualize** the final learned weights\n"
   ]
  },
  {
   "cell_type": "code",
   "execution_count": 1,
   "metadata": {
    "tags": [
     "pdf-ignore"
    ]
   },
   "outputs": [],
   "source": [
    "import random\n",
    "import numpy as np\n",
    "from cs231n.data_utils import load_CIFAR10\n",
    "import matplotlib.pyplot as plt\n",
    "\n",
    "%matplotlib inline\n",
    "plt.rcParams['figure.figsize'] = (10.0, 8.0) # set default size of plots\n",
    "plt.rcParams['image.interpolation'] = 'nearest'\n",
    "plt.rcParams['image.cmap'] = 'gray'\n",
    "\n",
    "# for auto-reloading extenrnal modules\n",
    "# see http://stackoverflow.com/questions/1907993/autoreload-of-modules-in-ipython\n",
    "%load_ext autoreload\n",
    "%autoreload 2"
   ]
  },
  {
   "cell_type": "code",
   "execution_count": 2,
   "metadata": {
    "tags": [
     "pdf-ignore"
    ]
   },
   "outputs": [
    {
     "name": "stdout",
     "output_type": "stream",
     "text": [
      "Train data shape:  (49000, 3073)\n",
      "Train labels shape:  (49000,)\n",
      "Validation data shape:  (1000, 3073)\n",
      "Validation labels shape:  (1000,)\n",
      "Test data shape:  (1000, 3073)\n",
      "Test labels shape:  (1000,)\n",
      "dev data shape:  (500, 3073)\n",
      "dev labels shape:  (500,)\n"
     ]
    }
   ],
   "source": [
    "def get_CIFAR10_data(num_training=49000, num_validation=1000, num_test=1000, num_dev=500):\n",
    "    \"\"\"\n",
    "    Load the CIFAR-10 dataset from disk and perform preprocessing to prepare\n",
    "    it for the linear classifier. These are the same steps as we used for the\n",
    "    SVM, but condensed to a single function.  \n",
    "    \"\"\"\n",
    "    # Load the raw CIFAR-10 data\n",
    "    cifar10_dir = 'cs231n/datasets/cifar-10-batches-py'\n",
    "    \n",
    "    # Cleaning up variables to prevent loading data multiple times (which may cause memory issue)\n",
    "    try:\n",
    "       del X_train, y_train\n",
    "       del X_test, y_test\n",
    "       print('Clear previously loaded data.')\n",
    "    except:\n",
    "       pass\n",
    "\n",
    "    X_train, y_train, X_test, y_test = load_CIFAR10(cifar10_dir)\n",
    "    \n",
    "    # subsample the data\n",
    "    mask = list(range(num_training, num_training + num_validation))\n",
    "    X_val = X_train[mask]\n",
    "    y_val = y_train[mask]\n",
    "    mask = list(range(num_training))\n",
    "    X_train = X_train[mask]\n",
    "    y_train = y_train[mask]\n",
    "    mask = list(range(num_test))\n",
    "    X_test = X_test[mask]\n",
    "    y_test = y_test[mask]\n",
    "    mask = np.random.choice(num_training, num_dev, replace=False)\n",
    "    X_dev = X_train[mask]\n",
    "    y_dev = y_train[mask]\n",
    "    \n",
    "    # Preprocessing: reshape the image data into rows\n",
    "    X_train = np.reshape(X_train, (X_train.shape[0], -1))\n",
    "    X_val = np.reshape(X_val, (X_val.shape[0], -1))\n",
    "    X_test = np.reshape(X_test, (X_test.shape[0], -1))\n",
    "    X_dev = np.reshape(X_dev, (X_dev.shape[0], -1))\n",
    "    \n",
    "    # Normalize the data: subtract the mean image\n",
    "    mean_image = np.mean(X_train, axis = 0)\n",
    "    X_train -= mean_image\n",
    "    X_val -= mean_image\n",
    "    X_test -= mean_image\n",
    "    X_dev -= mean_image\n",
    "    \n",
    "    # add bias dimension and transform into columns\n",
    "    X_train = np.hstack([X_train, np.ones((X_train.shape[0], 1))])\n",
    "    X_val = np.hstack([X_val, np.ones((X_val.shape[0], 1))])\n",
    "    X_test = np.hstack([X_test, np.ones((X_test.shape[0], 1))])\n",
    "    X_dev = np.hstack([X_dev, np.ones((X_dev.shape[0], 1))])\n",
    "    \n",
    "    return X_train, y_train, X_val, y_val, X_test, y_test, X_dev, y_dev\n",
    "\n",
    "\n",
    "# Invoke the above function to get our data.\n",
    "X_train, y_train, X_val, y_val, X_test, y_test, X_dev, y_dev = get_CIFAR10_data()\n",
    "print('Train data shape: ', X_train.shape)\n",
    "print('Train labels shape: ', y_train.shape)\n",
    "print('Validation data shape: ', X_val.shape)\n",
    "print('Validation labels shape: ', y_val.shape)\n",
    "print('Test data shape: ', X_test.shape)\n",
    "print('Test labels shape: ', y_test.shape)\n",
    "print('dev data shape: ', X_dev.shape)\n",
    "print('dev labels shape: ', y_dev.shape)"
   ]
  },
  {
   "cell_type": "markdown",
   "metadata": {},
   "source": [
    "## Softmax Classifier\n",
    "\n",
    "Your code for this section will all be written inside **cs231n/classifiers/softmax.py**. \n"
   ]
  },
  {
   "cell_type": "code",
   "execution_count": 11,
   "metadata": {},
   "outputs": [
    {
     "name": "stdout",
     "output_type": "stream",
     "text": [
      "loss: 2.366557\n",
      "sanity check: 2.302585\n"
     ]
    }
   ],
   "source": [
    "# First implement the naive softmax loss function with nested loops.\n",
    "# Open the file cs231n/classifiers/softmax.py and implement the\n",
    "# softmax_loss_naive function.\n",
    "\n",
    "from cs231n.classifiers.softmax import softmax_loss_naive\n",
    "import time\n",
    "\n",
    "# Generate a random softmax weight matrix and use it to compute the loss.\n",
    "W = np.random.randn(3073, 10) * 0.0001\n",
    "loss, grad = softmax_loss_naive(W, X_dev, y_dev, 0.0)\n",
    "\n",
    "# As a rough sanity check, our loss should be something close to -log(0.1).\n",
    "print('loss: %f' % loss)\n",
    "print('sanity check: %f' % (-np.log(0.1)))"
   ]
  },
  {
   "cell_type": "markdown",
   "metadata": {
    "tags": [
     "pdf-inline"
    ]
   },
   "source": [
    "**Inline Question 1**\n",
    "\n",
    "Why do we expect our loss to be close to -log(0.1)? Explain briefly.**\n",
    "\n",
    "$\\color{blue}{\\textit Your Answer:}$ Because W is initialized randomly, we expect that each class has a probability of 0.1 (10 classes). Therefore the softmax function gives us a value around 0.1.\n",
    "\n"
   ]
  },
  {
   "cell_type": "code",
   "execution_count": 52,
   "metadata": {},
   "outputs": [
    {
     "name": "stdout",
     "output_type": "stream",
     "text": [
      "numerical: -1.679231 analytic: -1.679231, relative error: 1.043483e-08\n",
      "numerical: -2.682614 analytic: -2.682614, relative error: 1.230679e-08\n",
      "numerical: -1.687650 analytic: -1.687650, relative error: 1.745553e-08\n",
      "numerical: -0.228273 analytic: -0.228273, relative error: 1.784276e-07\n",
      "numerical: 1.837169 analytic: 1.837169, relative error: 5.032526e-08\n",
      "numerical: 1.502482 analytic: 1.502482, relative error: 7.249150e-09\n",
      "numerical: -1.936935 analytic: -1.936936, relative error: 2.352265e-08\n",
      "numerical: -0.461223 analytic: -0.461223, relative error: 8.312309e-08\n",
      "numerical: 1.924665 analytic: 1.924665, relative error: 6.137726e-08\n",
      "numerical: -1.517230 analytic: -1.517231, relative error: 1.311867e-08\n",
      "numerical: -0.455605 analytic: -0.455605, relative error: 4.725132e-08\n",
      "numerical: -2.350793 analytic: -2.350793, relative error: 1.901168e-08\n",
      "numerical: 0.359787 analytic: 0.359787, relative error: 4.783533e-09\n",
      "numerical: -1.754129 analytic: -1.754130, relative error: 2.265350e-08\n",
      "numerical: 1.431323 analytic: 1.431324, relative error: 2.207070e-08\n",
      "numerical: -2.818734 analytic: -2.818734, relative error: 1.112509e-08\n",
      "numerical: -0.989159 analytic: -0.989159, relative error: 1.066110e-08\n",
      "numerical: -2.041714 analytic: -2.041714, relative error: 1.693104e-09\n",
      "numerical: 2.247972 analytic: 2.247972, relative error: 4.432020e-09\n",
      "numerical: -2.213492 analytic: -2.213492, relative error: 1.573988e-08\n"
     ]
    }
   ],
   "source": [
    "# Complete the implementation of softmax_loss_naive and implement a (naive)\n",
    "# version of the gradient that uses nested loops.\n",
    "loss, grad = softmax_loss_naive(W, X_dev, y_dev, 0.0)\n",
    "\n",
    "# As we did for the SVM, use numeric gradient checking as a debugging tool.\n",
    "# The numeric gradient should be close to the analytic gradient.\n",
    "from cs231n.gradient_check import grad_check_sparse\n",
    "f = lambda w: softmax_loss_naive(w, X_dev, y_dev, 0.0)[0]\n",
    "grad_numerical = grad_check_sparse(f, W, grad, 10)\n",
    "\n",
    "# similar to SVM case, do another gradient check with regularization\n",
    "loss, grad = softmax_loss_naive(W, X_dev, y_dev, 5e1)\n",
    "f = lambda w: softmax_loss_naive(w, X_dev, y_dev, 5e1)[0]\n",
    "grad_numerical = grad_check_sparse(f, W, grad, 10)"
   ]
  },
  {
   "cell_type": "code",
   "execution_count": 53,
   "metadata": {},
   "outputs": [
    {
     "name": "stdout",
     "output_type": "stream",
     "text": [
      "naive loss: 2.366557e+00 computed in 0.140957s\n",
      "vectorized loss: 2.366557e+00 computed in 0.064185s\n",
      "Loss difference: 0.000000\n",
      "Gradient difference: 0.000000\n"
     ]
    }
   ],
   "source": [
    "# Now that we have a naive implementation of the softmax loss function and its gradient,\n",
    "# implement a vectorized version in softmax_loss_vectorized.\n",
    "# The two versions should compute the same results, but the vectorized version should be\n",
    "# much faster.\n",
    "tic = time.time()\n",
    "loss_naive, grad_naive = softmax_loss_naive(W, X_dev, y_dev, 0.000005)\n",
    "toc = time.time()\n",
    "print('naive loss: %e computed in %fs' % (loss_naive, toc - tic))\n",
    "\n",
    "from cs231n.classifiers.softmax import softmax_loss_vectorized\n",
    "tic = time.time()\n",
    "loss_vectorized, grad_vectorized = softmax_loss_vectorized(W, X_dev, y_dev, 0.000005)\n",
    "toc = time.time()\n",
    "print('vectorized loss: %e computed in %fs' % (loss_vectorized, toc - tic))\n",
    "\n",
    "# As we did for the SVM, we use the Frobenius norm to compare the two versions\n",
    "# of the gradient.\n",
    "grad_difference = np.linalg.norm(grad_naive - grad_vectorized, ord='fro')\n",
    "print('Loss difference: %f' % np.abs(loss_naive - loss_vectorized))\n",
    "print('Gradient difference: %f' % grad_difference)"
   ]
  },
  {
   "cell_type": "code",
   "execution_count": 56,
   "metadata": {
    "tags": [
     "code"
    ]
   },
   "outputs": [
    {
     "name": "stdout",
     "output_type": "stream",
     "text": [
      "iteration 0 / 1500: loss 459.840667\n",
      "iteration 100 / 1500: loss 340.270772\n",
      "iteration 200 / 1500: loss 251.937080\n",
      "iteration 300 / 1500: loss 186.743277\n",
      "iteration 400 / 1500: loss 138.837267\n",
      "iteration 500 / 1500: loss 103.192038\n",
      "iteration 600 / 1500: loss 76.818783\n",
      "iteration 700 / 1500: loss 57.427464\n",
      "iteration 800 / 1500: loss 43.012791\n",
      "iteration 900 / 1500: loss 32.333065\n",
      "iteration 1000 / 1500: loss 24.483964\n",
      "iteration 1100 / 1500: loss 18.695975\n",
      "iteration 1200 / 1500: loss 14.300403\n",
      "iteration 1300 / 1500: loss 11.163881\n",
      "iteration 1400 / 1500: loss 8.731082\n",
      "iteration 0 / 1500: loss 781.410645\n",
      "iteration 100 / 1500: loss 473.031705\n",
      "iteration 200 / 1500: loss 286.813229\n",
      "iteration 300 / 1500: loss 174.542556\n",
      "iteration 400 / 1500: loss 106.436849\n",
      "iteration 500 / 1500: loss 65.223499\n",
      "iteration 600 / 1500: loss 40.321434\n",
      "iteration 700 / 1500: loss 25.276497\n",
      "iteration 800 / 1500: loss 16.108428\n",
      "iteration 900 / 1500: loss 10.551752\n",
      "iteration 1000 / 1500: loss 7.253068\n",
      "iteration 1100 / 1500: loss 5.172926\n",
      "iteration 1200 / 1500: loss 3.987254\n",
      "iteration 1300 / 1500: loss 3.226068\n",
      "iteration 1400 / 1500: loss 2.746905\n",
      "iteration 0 / 1500: loss 1091.612097\n",
      "iteration 100 / 1500: loss 541.051919\n",
      "iteration 200 / 1500: loss 268.843276\n",
      "iteration 300 / 1500: loss 134.193527\n",
      "iteration 400 / 1500: loss 67.513959\n",
      "iteration 500 / 1500: loss 34.514262\n",
      "iteration 600 / 1500: loss 18.184302\n",
      "iteration 700 / 1500: loss 10.040823\n",
      "iteration 800 / 1500: loss 6.051598\n",
      "iteration 900 / 1500: loss 4.075363\n",
      "iteration 1000 / 1500: loss 3.037766\n",
      "iteration 1100 / 1500: loss 2.569972\n",
      "iteration 1200 / 1500: loss 2.332692\n",
      "iteration 1300 / 1500: loss 2.236916\n",
      "iteration 1400 / 1500: loss 2.221542\n",
      "iteration 0 / 1500: loss 464.940784\n",
      "iteration 100 / 1500: loss 253.947752\n",
      "iteration 200 / 1500: loss 139.936788\n",
      "iteration 300 / 1500: loss 77.441986\n",
      "iteration 400 / 1500: loss 43.314485\n",
      "iteration 500 / 1500: loss 24.562190\n",
      "iteration 600 / 1500: loss 14.357712\n",
      "iteration 700 / 1500: loss 8.779249\n",
      "iteration 800 / 1500: loss 5.780047\n",
      "iteration 900 / 1500: loss 4.100738\n",
      "iteration 1000 / 1500: loss 3.193498\n",
      "iteration 1100 / 1500: loss 2.652079\n",
      "iteration 1200 / 1500: loss 2.318070\n",
      "iteration 1300 / 1500: loss 2.229499\n",
      "iteration 1400 / 1500: loss 2.132739\n",
      "iteration 0 / 1500: loss 774.571015\n",
      "iteration 100 / 1500: loss 284.304511\n",
      "iteration 200 / 1500: loss 105.396492\n",
      "iteration 300 / 1500: loss 39.908646\n",
      "iteration 400 / 1500: loss 15.934745\n",
      "iteration 500 / 1500: loss 7.125937\n",
      "iteration 600 / 1500: loss 3.982295\n",
      "iteration 700 / 1500: loss 2.760399\n",
      "iteration 800 / 1500: loss 2.359547\n",
      "iteration 900 / 1500: loss 2.226677\n",
      "iteration 1000 / 1500: loss 2.118137\n",
      "iteration 1100 / 1500: loss 2.138932\n",
      "iteration 1200 / 1500: loss 2.031883\n",
      "iteration 1300 / 1500: loss 2.009487\n",
      "iteration 1400 / 1500: loss 2.036831\n",
      "iteration 0 / 1500: loss 1071.402951\n",
      "iteration 100 / 1500: loss 263.603419\n",
      "iteration 200 / 1500: loss 66.041686\n",
      "iteration 300 / 1500: loss 17.786997\n",
      "iteration 400 / 1500: loss 5.884370\n",
      "iteration 500 / 1500: loss 3.059282\n",
      "iteration 600 / 1500: loss 2.324377\n",
      "iteration 700 / 1500: loss 2.151883\n",
      "iteration 800 / 1500: loss 2.152240\n",
      "iteration 900 / 1500: loss 2.091436\n",
      "iteration 1000 / 1500: loss 2.164141\n",
      "iteration 1100 / 1500: loss 2.122419\n",
      "iteration 1200 / 1500: loss 2.134877\n",
      "iteration 1300 / 1500: loss 2.081607\n",
      "iteration 1400 / 1500: loss 2.081438\n",
      "iteration 0 / 1500: loss 466.930767\n",
      "iteration 100 / 1500: loss 139.961927\n",
      "iteration 200 / 1500: loss 43.250541\n",
      "iteration 300 / 1500: loss 14.397786\n",
      "iteration 400 / 1500: loss 5.748361\n",
      "iteration 500 / 1500: loss 3.091742\n",
      "iteration 600 / 1500: loss 2.268991\n",
      "iteration 700 / 1500: loss 2.152626\n",
      "iteration 800 / 1500: loss 2.059796\n",
      "iteration 900 / 1500: loss 2.074248\n",
      "iteration 1000 / 1500: loss 1.970181\n",
      "iteration 1100 / 1500: loss 2.042580\n",
      "iteration 1200 / 1500: loss 2.072874\n",
      "iteration 1300 / 1500: loss 2.075023\n",
      "iteration 1400 / 1500: loss 2.042577\n",
      "iteration 0 / 1500: loss 766.054747\n",
      "iteration 100 / 1500: loss 103.715311\n",
      "iteration 200 / 1500: loss 15.625532\n",
      "iteration 300 / 1500: loss 3.913268\n",
      "iteration 400 / 1500: loss 2.321248\n",
      "iteration 500 / 1500: loss 2.171072\n",
      "iteration 600 / 1500: loss 2.052632\n",
      "iteration 700 / 1500: loss 2.118245\n",
      "iteration 800 / 1500: loss 2.082947\n",
      "iteration 900 / 1500: loss 2.109648\n",
      "iteration 1000 / 1500: loss 2.043790\n",
      "iteration 1100 / 1500: loss 2.034429\n",
      "iteration 1200 / 1500: loss 2.027923\n",
      "iteration 1300 / 1500: loss 2.045387\n",
      "iteration 1400 / 1500: loss 2.081347\n",
      "iteration 0 / 1500: loss 1095.422615\n",
      "iteration 100 / 1500: loss 66.906669\n",
      "iteration 200 / 1500: loss 5.978544\n",
      "iteration 300 / 1500: loss 2.302768\n",
      "iteration 400 / 1500: loss 2.121783\n",
      "iteration 500 / 1500: loss 2.060244\n",
      "iteration 600 / 1500: loss 2.096000\n",
      "iteration 700 / 1500: loss 2.129833\n",
      "iteration 800 / 1500: loss 2.125048\n",
      "iteration 900 / 1500: loss 2.148865\n",
      "iteration 1000 / 1500: loss 2.091142\n",
      "iteration 1100 / 1500: loss 2.044392\n",
      "iteration 1200 / 1500: loss 2.086068\n",
      "iteration 1300 / 1500: loss 2.091751\n",
      "iteration 1400 / 1500: loss 2.152129\n",
      "lr 5.000000e-08 reg 1.500000e+04 train accuracy: 0.327041 val accuracy: 0.338000\n",
      "lr 5.000000e-08 reg 2.500000e+04 train accuracy: 0.327143 val accuracy: 0.343000\n",
      "lr 5.000000e-08 reg 3.500000e+04 train accuracy: 0.313041 val accuracy: 0.330000\n",
      "lr 1.000000e-07 reg 1.500000e+04 train accuracy: 0.345898 val accuracy: 0.360000\n",
      "lr 1.000000e-07 reg 2.500000e+04 train accuracy: 0.330796 val accuracy: 0.347000\n",
      "lr 1.000000e-07 reg 3.500000e+04 train accuracy: 0.318551 val accuracy: 0.328000\n",
      "lr 2.000000e-07 reg 1.500000e+04 train accuracy: 0.342633 val accuracy: 0.366000\n",
      "lr 2.000000e-07 reg 2.500000e+04 train accuracy: 0.333184 val accuracy: 0.352000\n",
      "lr 2.000000e-07 reg 3.500000e+04 train accuracy: 0.324408 val accuracy: 0.329000\n",
      "best validation accuracy achieved during cross-validation: 0.366000\n"
     ]
    }
   ],
   "source": [
    "# Use the validation set to tune hyperparameters (regularization strength and\n",
    "# learning rate). You should experiment with different ranges for the learning\n",
    "# rates and regularization strengths; if you are careful you should be able to\n",
    "# get a classification accuracy of over 0.35 on the validation set.\n",
    "from cs231n.classifiers import Softmax\n",
    "results = {}\n",
    "best_val = -1\n",
    "best_softmax = None\n",
    "learning_rates = [0.5e-7, 1e-7, 2e-7] #5e-7]\n",
    "regularization_strengths = [1.5e4, 2.5e4, 3.5e4] #5e4]\n",
    "\n",
    "################################################################################\n",
    "# TODO:                                                                        #\n",
    "# Use the validation set to set the learning rate and regularization strength. #\n",
    "# This should be identical to the validation that you did for the SVM; save    #\n",
    "# the best trained softmax classifer in best_softmax.                          #\n",
    "################################################################################\n",
    "# *****START OF YOUR CODE (DO NOT DELETE/MODIFY THIS LINE)*****\n",
    "\n",
    "for lr in learning_rates:\n",
    "    for rs in regularization_strengths:\n",
    "        softmax = Softmax()\n",
    "        loss_hist = softmax.train(X_train, y_train, learning_rate=lr, reg=rs,\n",
    "                      num_iters=1500, verbose=True)\n",
    "        y_train_pred = softmax.predict(X_train)\n",
    "        y_val_pred = softmax.predict(X_val)\n",
    "        training_accuracy = np.mean(y_train == y_train_pred)\n",
    "        validation_accuracy = np.mean(y_val == y_val_pred)\n",
    "        results[(lr, rs)] = (training_accuracy, validation_accuracy)\n",
    "        if best_val < validation_accuracy:\n",
    "            best_val = validation_accuracy\n",
    "            best_softmax = softmax\n",
    "\n",
    "# *****END OF YOUR CODE (DO NOT DELETE/MODIFY THIS LINE)*****\n",
    "    \n",
    "# Print out results.\n",
    "for lr, reg in sorted(results):\n",
    "    train_accuracy, val_accuracy = results[(lr, reg)]\n",
    "    print('lr %e reg %e train accuracy: %f val accuracy: %f' % (\n",
    "                lr, reg, train_accuracy, val_accuracy))\n",
    "    \n",
    "print('best validation accuracy achieved during cross-validation: %f' % best_val)"
   ]
  },
  {
   "cell_type": "code",
   "execution_count": 57,
   "metadata": {},
   "outputs": [
    {
     "name": "stdout",
     "output_type": "stream",
     "text": [
      "softmax on raw pixels final test set accuracy: 0.357000\n"
     ]
    }
   ],
   "source": [
    "# evaluate on test set\n",
    "# Evaluate the best softmax on test set\n",
    "y_test_pred = best_softmax.predict(X_test)\n",
    "test_accuracy = np.mean(y_test == y_test_pred)\n",
    "print('softmax on raw pixels final test set accuracy: %f' % (test_accuracy, ))"
   ]
  },
  {
   "cell_type": "markdown",
   "metadata": {
    "tags": [
     "pdf-inline"
    ]
   },
   "source": [
    "**Inline Question 2** - *True or False*\n",
    "\n",
    "Suppose the overall training loss is defined as the sum of the per-datapoint loss over all training examples. It is possible to add a new datapoint to a training set that would leave the SVM loss unchanged, but this is not the case with the Softmax classifier loss.\n",
    "\n",
    "$\\color{blue}{\\textit Your Answer:}$ False\n",
    "\n",
    "\n",
    "$\\color{blue}{\\textit Your Explanation:}$ If we add the learned \"template\" as a new datapoint, the Softmax classifier loss stays unchanged as well.\n",
    "\n"
   ]
  },
  {
   "cell_type": "code",
   "execution_count": 58,
   "metadata": {},
   "outputs": [
    {
     "data": {
      "image/png": "[encoded data removed]",
      "text/plain": [
       "<Figure size 432x288 with 10 Axes>"
      ]
     },
     "metadata": {
      "needs_background": "light"
     },
     "output_type": "display_data"
    }
   ],
   "source": [
    "# Visualize the learned weights for each class\n",
    "w = best_softmax.W[:-1,:] # strip out the bias\n",
    "w = w.reshape(32, 32, 3, 10)\n",
    "\n",
    "w_min, w_max = np.min(w), np.max(w)\n",
    "\n",
    "classes = ['plane', 'car', 'bird', 'cat', 'deer', 'dog', 'frog', 'horse', 'ship', 'truck']\n",
    "for i in range(10):\n",
    "    plt.subplot(2, 5, i + 1)\n",
    "    \n",
    "    # Rescale the weights to be between 0 and 255\n",
    "    wimg = 255.0 * (w[:, :, :, i].squeeze() - w_min) / (w_max - w_min)\n",
    "    plt.imshow(wimg.astype('uint8'))\n",
    "    plt.axis('off')\n",
    "    plt.title(classes[i])"
   ]
  },
  {
   "cell_type": "code",
   "execution_count": null,
   "metadata": {},
   "outputs": [],
   "source": []
  }
 ],
 "metadata": {
  "kernelspec": {
   "display_name": "Python 3",
   "language": "python",
   "name": "python3"
  },
  "language_info": {
   "codemirror_mode": {
    "name": "ipython",
    "version": 3
   },
   "file_extension": ".py",
   "mimetype": "text/x-python",
   "name": "python",
   "nbconvert_exporter": "python",
   "pygments_lexer": "ipython3",
   "version": "3.7.4"
  }
 },
 "nbformat": 4,
 "nbformat_minor": 1
}
